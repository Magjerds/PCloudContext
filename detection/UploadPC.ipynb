{
 "cells": [
  {
   "cell_type": "code",
   "execution_count": 2,
   "id": "9f18fa86-6df3-4fbb-974c-17781f947620",
   "metadata": {},
   "outputs": [],
   "source": [
    "import cv2\n",
    "import matplotlib.pyplot as plt\n",
    "import matplotlib.patches as patches\n",
    "from cognite.client.data_classes.contextualization import VisionFeature\n",
    "from cognite.client.data_classes import Asset, AnnotationFilter\n",
    "import numpy as np\n",
    "from dotenv import load_dotenv \n",
    "\n",
    "\n",
    "from connect import init_cognite_connect\n",
    "\n",
    "creds, config, client = init_cognite_connect()"
   ]
  },
  {
   "cell_type": "code",
   "execution_count": 4,
   "id": "5282069b-4efb-4cd2-a054-4d93d4d6d564",
   "metadata": {},
   "outputs": [],
   "source": [
    "NEW_FILE_PATH_1 = \"pclouds\"\n",
    "NEW_FILE_1 = \"Med_assets.pts\"\n",
    "EXISTING_FILE_1 = \"Med assets.laz\""
   ]
  },
  {
   "cell_type": "code",
   "execution_count": 12,
   "id": "04380d92-4912-427f-912a-a42bb557b64e",
   "metadata": {},
   "outputs": [],
   "source": [
    "FILE_PATH_1 = \"pclouds/Med_assets.pts\"\n",
    "FILE_PATH_2 = \"pclouds/11_2_2024.pts\"\n",
    "FILE_NAME_1 = \"Med_assets.pts\"\n",
    "FILE_NAME_2 = \"11_2_2024.pts\"\n",
    "MODEL_NAME_1 = \"NTNU_assets_rgb\"\n",
    "MODEL_NAME_2 = \"NTNU_lab_rgb\""
   ]
  },
  {
   "cell_type": "code",
   "execution_count": null,
   "id": "1a5c1469-526b-4dcf-bb5f-c39b7804ee3d",
   "metadata": {},
   "outputs": [],
   "source": []
  },
  {
   "cell_type": "code",
   "execution_count": 13,
   "id": "1952d3ff-1ea1-4915-842a-2a6b1ee70d73",
   "metadata": {},
   "outputs": [
    {
     "name": "stdout",
     "output_type": "stream",
     "text": [
      "Uploading file pclouds/Med_assets.pts as Med_assets.pts ....\n",
      "Uploaded Med_assets.pts with file id: 2854963389035052\n",
      "Uploading file pclouds/11_2_2024.pts as 11_2_2024.pts ....\n",
      "Uploaded 11_2_2024.pts with file id: 4138644306264786\n",
      "Uploading Result.json ....\n"
     ]
    },
    {
     "ename": "NameError",
     "evalue": "name 'json' is not defined",
     "output_type": "error",
     "traceback": [
      "\u001b[0;31m---------------------------------------------------------------------------\u001b[0m",
      "\u001b[0;31mNameError\u001b[0m                                 Traceback (most recent call last)",
      "Cell \u001b[0;32mIn[13], line 17\u001b[0m\n\u001b[1;32m     15\u001b[0m \u001b[38;5;28mprint\u001b[39m(\u001b[38;5;124mf\u001b[39m\u001b[38;5;124m\"\u001b[39m\u001b[38;5;124mUploading \u001b[39m\u001b[38;5;132;01m{\u001b[39;00mfile_name\u001b[38;5;132;01m}\u001b[39;00m\u001b[38;5;124m ....\u001b[39m\u001b[38;5;124m\"\u001b[39m)\n\u001b[1;32m     16\u001b[0m \u001b[38;5;28;01mwith\u001b[39;00m \u001b[38;5;28mopen\u001b[39m(file_name, \u001b[38;5;124m'\u001b[39m\u001b[38;5;124mw\u001b[39m\u001b[38;5;124m'\u001b[39m) \u001b[38;5;28;01mas\u001b[39;00m outfile:\n\u001b[0;32m---> 17\u001b[0m     json\u001b[38;5;241m.\u001b[39mdump(file_content, outfile)\n\u001b[1;32m     19\u001b[0m file_upload_result \u001b[38;5;241m=\u001b[39m client\u001b[38;5;241m.\u001b[39mfiles\u001b[38;5;241m.\u001b[39mupload(path\u001b[38;5;241m=\u001b[39mfile_name)\n\u001b[1;32m     20\u001b[0m \u001b[38;5;28mprint\u001b[39m(\u001b[38;5;124mf\u001b[39m\u001b[38;5;124m\"\u001b[39m\u001b[38;5;124mUploaded \u001b[39m\u001b[38;5;132;01m{\u001b[39;00mfile_name\u001b[38;5;132;01m}\u001b[39;00m\u001b[38;5;124m with file id: \u001b[39m\u001b[38;5;132;01m{\u001b[39;00mfile_upload_result\u001b[38;5;241m.\u001b[39mid\u001b[38;5;132;01m}\u001b[39;00m\u001b[38;5;124m\"\u001b[39m)\n",
      "\u001b[0;31mNameError\u001b[0m: name 'json' is not defined"
     ]
    }
   ],
   "source": [
    "# Upload the first file\n",
    "print(f\"Uploading file {FILE_PATH_1} as {FILE_NAME_1} ....\")\n",
    "upload_result_1 = client.files.upload(path=FILE_PATH_1, name=FILE_NAME_1)\n",
    "print(f\"Uploaded {FILE_NAME_1} with file id: {upload_result_1.id}\")\n",
    "\n",
    "# Upload the second file\n",
    "print(f\"Uploading file {FILE_PATH_2} as {FILE_NAME_2} ....\")\n",
    "upload_result_2 = client.files.upload(path=FILE_PATH_2, name=FILE_NAME_2)\n",
    "print(f\"Uploaded {FILE_NAME_2} with file id: {upload_result_2.id}\")\n",
    "\n",
    "# Create and upload file_id list json file\n",
    "file_ids = [upload_result_1.id, upload_result_2.id]\n",
    "file_content = {\"dataType\": \"PointCloud\", \"fileIds\": file_ids}\n",
    "file_name = \"Result.json\"\n",
    "print(f\"Uploading {file_name} ....\")\n",
    "with open(file_name, 'w') as outfile:\n",
    "    json.dump(file_content, outfile)\n",
    "\n",
    "#file_upload_result = client.files.upload(path=file_name)\n",
    "#print(f\"Uploaded {file_name} with file id: {file_upload_result.id}\")\n",
    "\n",
    "# Print the result\n",
    "print(\"Summary:\")\n",
    "print(f\"File ids  :  {file_ids}\")\n",
    "print(f\"File name :  {file_name}\")"
   ]
  },
  {
   "cell_type": "code",
   "execution_count": null,
   "id": "d79619a8-0215-4ef7-98ad-e4e21e5a108c",
   "metadata": {},
   "outputs": [],
   "source": []
  }
 ],
 "metadata": {
  "kernelspec": {
   "display_name": "project_thesis",
   "language": "python",
   "name": "project_thesis"
  },
  "language_info": {
   "codemirror_mode": {
    "name": "ipython",
    "version": 3
   },
   "file_extension": ".py",
   "mimetype": "text/x-python",
   "name": "python",
   "nbconvert_exporter": "python",
   "pygments_lexer": "ipython3",
   "version": "3.11.5"
  }
 },
 "nbformat": 4,
 "nbformat_minor": 5
}
