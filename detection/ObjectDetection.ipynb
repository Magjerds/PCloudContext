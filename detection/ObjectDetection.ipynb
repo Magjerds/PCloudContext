{
 "cells": [
  {
   "cell_type": "code",
   "execution_count": 1,
   "id": "b6593838-7cda-4d3d-b7e3-4d6d0f57475f",
   "metadata": {},
   "outputs": [],
   "source": [
    "import numpy as np\n",
    "import torch\n",
    "import matplotlib.pyplot as plt\n",
    "import matplotlib.patches as patches\n",
    "import cv2\n",
    "from cognite.client.data_classes.contextualization import VisionFeature\n",
    "from connect import init_cognite_connect\n",
    "\n",
    "creds, config, client = init_cognite_connect()"
   ]
  },
  {
   "cell_type": "markdown",
   "id": "844aa054-2756-4b03-8d7d-14cf0dacafd5",
   "metadata": {},
   "source": [
    "### Find relevant images:"
   ]
  },
  {
   "cell_type": "code",
   "execution_count": 2,
   "id": "38a53f13-8c93-41d0-8a7f-9d5c6216fc08",
   "metadata": {},
   "outputs": [
    {
     "name": "stdout",
     "output_type": "stream",
     "text": [
      "48\n"
     ]
    }
   ],
   "source": [
    "## sigrid-data\n",
    "sigrid_site_id = \"site-6823646490256602-4885115113942810\"\n",
    "sigrid_image_list = client.files.list(limit=-1, metadata={\"site_id\":sigrid_site_id})\n",
    "print(len(sigrid_image_list)) #should be 48 as of 18.04"
   ]
  },
  {
   "cell_type": "code",
   "execution_count": 3,
   "id": "c5433215-c705-4996-b7fb-97043d4f419f",
   "metadata": {},
   "outputs": [],
   "source": [
    "file_ids_sigrid = []\n",
    "for file in sigrid_image_list:\n",
    "    file_ids_sigrid.append(file.id)"
   ]
  },
  {
   "cell_type": "code",
   "execution_count": 6,
   "id": "df188462-3463-49ef-b035-2dfbf2d96886",
   "metadata": {},
   "outputs": [
    {
     "data": {
      "text/plain": [
       "137673760555654"
      ]
     },
     "execution_count": 6,
     "metadata": {},
     "output_type": "execute_result"
    }
   ],
   "source": []
  },
  {
   "cell_type": "code",
   "execution_count": 4,
   "id": "9a317f2b-94f1-4020-92cb-894d4987eebb",
   "metadata": {},
   "outputs": [],
   "source": [
    "extract_job_sigrid = client.vision.extract(\n",
    "    features=VisionFeature.ASSET_TAG_DETECTION,file_ids=file_ids_sigrid)"
   ]
  },
  {
   "cell_type": "code",
   "execution_count": 5,
   "id": "5ac751de-813b-4ee0-9068-c697e315e5b7",
   "metadata": {},
   "outputs": [],
   "source": [
    "extract_job_sigrid.wait_for_completion()"
   ]
  },
  {
   "cell_type": "code",
   "execution_count": 6,
   "id": "9f00b666-089c-4b5f-9341-15cc6ee814d1",
   "metadata": {},
   "outputs": [
    {
     "data": {
      "text/plain": [
       "{'items': [{'fileExternalId': 'image-station-6823646490256602-4885115113942810-200544-MPS Dense Area 1 1-334-0000000000000001-0',\n",
       "   'fileId': 7977850905805347,\n",
       "   'predictions': {'assetTagPredictions': []}},\n",
       "  {'fileExternalId': 'image-station-6823646490256602-4885115113942810-200544-MPS Dense Area 1 1-331-0000000000000001-2',\n",
       "   'fileId': 8128331645382016,\n",
       "   'predictions': {'assetTagPredictions': []}},\n",
       "  {'fileExternalId': 'image-station-6823646490256602-4885115113942810-200544-MPS Dense Area 1 1-337-0000000000000001-2',\n",
       "   'fileId': 8447895193985214,\n",
       "   'predictions': {'assetTagPredictions': []}},\n",
       "  {'fileExternalId': 'image-station-6823646490256602-4885115113942810-200544-MPS Dense Area 1 1-332-0000000000000001-5',\n",
       "   'fileId': 8596438045071458,\n",
       "   'predictions': {'assetTagPredictions': []}},\n",
       "  {'fileExternalId': 'image-station-6823646490256602-4885115113942810-200544-MPS Dense Area 1 1-331-0000000000000001-4',\n",
       "   'fileId': 8665276623490316,\n",
       "   'predictions': {'assetTagPredictions': []}},\n",
       "  {'fileExternalId': 'image-station-6823646490256602-4885115113942810-200544-MPS Dense Area 1 1-338-0000000000000001-3',\n",
       "   'fileId': 8698379192046667,\n",
       "   'predictions': {'assetTagPredictions': []}},\n",
       "  {'fileExternalId': 'image-station-6823646490256602-4885115113942810-200544-MPS Dense Area 1 1-334-0000000000000001-2',\n",
       "   'fileId': 8744605077322025,\n",
       "   'predictions': {'assetTagPredictions': []}},\n",
       "  {'fileExternalId': 'image-station-6823646490256602-4885115113942810-200544-MPS Dense Area 1 1-335-0000000000000001-1',\n",
       "   'fileId': 8753059242052357,\n",
       "   'predictions': {'assetTagPredictions': []}},\n",
       "  {'fileExternalId': 'image-station-6823646490256602-4885115113942810-200544-MPS Dense Area 1 1-336-0000000000000001-4',\n",
       "   'fileId': 1687278808157501,\n",
       "   'predictions': {'assetTagPredictions': []}},\n",
       "  {'fileExternalId': 'image-station-6823646490256602-4885115113942810-200544-MPS Dense Area 1 1-336-0000000000000001-1',\n",
       "   'fileId': 1699055434431130,\n",
       "   'predictions': {'assetTagPredictions': []}},\n",
       "  {'fileExternalId': 'image-station-6823646490256602-4885115113942810-200544-MPS Dense Area 1 1-332-0000000000000001-0',\n",
       "   'fileId': 1844283130316734,\n",
       "   'predictions': {'assetTagPredictions': []}},\n",
       "  {'fileExternalId': 'image-station-6823646490256602-4885115113942810-200544-MPS Dense Area 1 1-335-0000000000000001-3',\n",
       "   'fileId': 1997803482566525,\n",
       "   'predictions': {'assetTagPredictions': []}},\n",
       "  {'fileExternalId': 'image-station-6823646490256602-4885115113942810-200544-MPS Dense Area 1 1-331-0000000000000001-0',\n",
       "   'fileId': 2013533628627294,\n",
       "   'predictions': {'assetTagPredictions': []}},\n",
       "  {'fileExternalId': 'image-station-6823646490256602-4885115113942810-200544-MPS Dense Area 1 1-334-0000000000000001-3',\n",
       "   'fileId': 2132404826765183,\n",
       "   'predictions': {'assetTagPredictions': []}},\n",
       "  {'fileExternalId': 'image-station-6823646490256602-4885115113942810-200544-MPS Dense Area 1 1-331-0000000000000001-1',\n",
       "   'fileId': 2673090422184781,\n",
       "   'predictions': {'assetTagPredictions': []}},\n",
       "  {'fileExternalId': 'image-station-6823646490256602-4885115113942810-200544-MPS Dense Area 1 1-333-0000000000000001-0',\n",
       "   'fileId': 2813411294717103,\n",
       "   'predictions': {'assetTagPredictions': []}},\n",
       "  {'fileExternalId': 'image-station-6823646490256602-4885115113942810-200544-MPS Dense Area 1 1-333-0000000000000001-2',\n",
       "   'fileId': 2968904784236740,\n",
       "   'predictions': {'assetTagPredictions': []}},\n",
       "  {'fileExternalId': 'image-station-6823646490256602-4885115113942810-200544-MPS Dense Area 1 1-336-0000000000000001-3',\n",
       "   'fileId': 3133062355953523,\n",
       "   'predictions': {'assetTagPredictions': []}},\n",
       "  {'fileExternalId': 'image-station-6823646490256602-4885115113942810-200544-MPS Dense Area 1 1-335-0000000000000001-5',\n",
       "   'fileId': 3178438416744228,\n",
       "   'predictions': {'assetTagPredictions': []}},\n",
       "  {'fileExternalId': 'image-station-6823646490256602-4885115113942810-200544-MPS Dense Area 1 1-338-0000000000000001-2',\n",
       "   'fileId': 3283365449404470,\n",
       "   'predictions': {'assetTagPredictions': []}},\n",
       "  {'fileExternalId': 'image-station-6823646490256602-4885115113942810-200544-MPS Dense Area 1 1-332-0000000000000001-2',\n",
       "   'fileId': 3412097324633202,\n",
       "   'predictions': {'assetTagPredictions': [{'assetRef': {'id': 2194542392124481},\n",
       "      'confidence': 1.0,\n",
       "      'text': 'IL-42-A-9A9',\n",
       "      'textRegion': {'xMax': 0.5384765625,\n",
       "       'xMin': 0.505859375,\n",
       "       'yMax': 0.552734375,\n",
       "       'yMin': 0.5453125}}]}},\n",
       "  {'fileExternalId': 'image-station-6823646490256602-4885115113942810-200544-MPS Dense Area 1 1-337-0000000000000001-4',\n",
       "   'fileId': 3779452612734628,\n",
       "   'predictions': {'assetTagPredictions': []}},\n",
       "  {'fileExternalId': 'image-station-6823646490256602-4885115113942810-200544-MPS Dense Area 1 1-332-0000000000000001-4',\n",
       "   'fileId': 4073748477300188,\n",
       "   'predictions': {'assetTagPredictions': []}},\n",
       "  {'fileExternalId': 'image-station-6823646490256602-4885115113942810-200544-MPS Dense Area 1 1-333-0000000000000001-3',\n",
       "   'fileId': 4164658522736849,\n",
       "   'predictions': {'assetTagPredictions': []}},\n",
       "  {'fileExternalId': 'image-station-6823646490256602-4885115113942810-200544-MPS Dense Area 1 1-331-0000000000000001-3',\n",
       "   'fileId': 4414839852907854,\n",
       "   'predictions': {'assetTagPredictions': []}},\n",
       "  {'fileExternalId': 'image-station-6823646490256602-4885115113942810-200544-MPS Dense Area 1 1-338-0000000000000001-4',\n",
       "   'fileId': 5230787893591751,\n",
       "   'predictions': {'assetTagPredictions': []}},\n",
       "  {'fileExternalId': 'image-station-6823646490256602-4885115113942810-200544-MPS Dense Area 1 1-332-0000000000000001-3',\n",
       "   'fileId': 5512367943107115,\n",
       "   'predictions': {'assetTagPredictions': []}},\n",
       "  {'fileExternalId': 'image-station-6823646490256602-4885115113942810-200544-MPS Dense Area 1 1-337-0000000000000001-0',\n",
       "   'fileId': 5829847896254182,\n",
       "   'predictions': {'assetTagPredictions': []}},\n",
       "  {'fileExternalId': 'image-station-6823646490256602-4885115113942810-200544-MPS Dense Area 1 1-335-0000000000000001-0',\n",
       "   'fileId': 6019921028862041,\n",
       "   'predictions': {'assetTagPredictions': [{'assetRef': {'id': 7636371139593460},\n",
       "      'confidence': 1.0,\n",
       "      'text': 'BE-5526A',\n",
       "      'textRegion': {'xMax': 0.2951171875,\n",
       "       'xMin': 0.27187500000000003,\n",
       "       'yMax': 0.46503906250000004,\n",
       "       'yMin': 0.4578125}}]}},\n",
       "  {'fileExternalId': 'image-station-6823646490256602-4885115113942810-200544-MPS Dense Area 1 1-335-0000000000000001-4',\n",
       "   'fileId': 6053134870729834,\n",
       "   'predictions': {'assetTagPredictions': []}},\n",
       "  {'fileExternalId': 'image-station-6823646490256602-4885115113942810-200544-MPS Dense Area 1 1-336-0000000000000001-0',\n",
       "   'fileId': 6567698909918096,\n",
       "   'predictions': {'assetTagPredictions': []}},\n",
       "  {'fileExternalId': 'image-station-6823646490256602-4885115113942810-200544-MPS Dense Area 1 1-338-0000000000000001-0',\n",
       "   'fileId': 6760684234764281,\n",
       "   'predictions': {'assetTagPredictions': []}},\n",
       "  {'fileExternalId': 'image-station-6823646490256602-4885115113942810-200544-MPS Dense Area 1 1-338-0000000000000001-5',\n",
       "   'fileId': 6968354920422384,\n",
       "   'predictions': {'assetTagPredictions': []}},\n",
       "  {'fileExternalId': 'image-station-6823646490256602-4885115113942810-200544-MPS Dense Area 1 1-335-0000000000000001-2',\n",
       "   'fileId': 7071397917814680,\n",
       "   'predictions': {'assetTagPredictions': []}},\n",
       "  {'fileExternalId': 'image-station-6823646490256602-4885115113942810-200544-MPS Dense Area 1 1-331-0000000000000001-5',\n",
       "   'fileId': 7438391047837076,\n",
       "   'predictions': {'assetTagPredictions': []}},\n",
       "  {'fileExternalId': 'image-station-6823646490256602-4885115113942810-200544-MPS Dense Area 1 1-336-0000000000000001-5',\n",
       "   'fileId': 7631547735769207,\n",
       "   'predictions': {'assetTagPredictions': []}},\n",
       "  {'fileExternalId': 'image-station-6823646490256602-4885115113942810-200544-MPS Dense Area 1 1-336-0000000000000001-2',\n",
       "   'fileId': 7777317850773599,\n",
       "   'predictions': {'assetTagPredictions': []}},\n",
       "  {'fileExternalId': 'image-station-6823646490256602-4885115113942810-200544-MPS Dense Area 1 1-337-0000000000000001-1',\n",
       "   'fileId': 7865514272288085,\n",
       "   'predictions': {'assetTagPredictions': []}},\n",
       "  {'fileExternalId': 'image-station-6823646490256602-4885115113942810-200544-MPS Dense Area 1 1-333-0000000000000001-5',\n",
       "   'fileId': 137673760555654,\n",
       "   'predictions': {'assetTagPredictions': []}},\n",
       "  {'fileExternalId': 'image-station-6823646490256602-4885115113942810-200544-MPS Dense Area 1 1-334-0000000000000001-1',\n",
       "   'fileId': 235286409684116,\n",
       "   'predictions': {'assetTagPredictions': []}},\n",
       "  {'fileExternalId': 'image-station-6823646490256602-4885115113942810-200544-MPS Dense Area 1 1-333-0000000000000001-4',\n",
       "   'fileId': 510813686883275,\n",
       "   'predictions': {'assetTagPredictions': []}},\n",
       "  {'fileExternalId': 'image-station-6823646490256602-4885115113942810-200544-MPS Dense Area 1 1-333-0000000000000001-1',\n",
       "   'fileId': 598373886265725,\n",
       "   'predictions': {'assetTagPredictions': []}},\n",
       "  {'fileExternalId': 'image-station-6823646490256602-4885115113942810-200544-MPS Dense Area 1 1-338-0000000000000001-1',\n",
       "   'fileId': 726958287946366,\n",
       "   'predictions': {'assetTagPredictions': []}},\n",
       "  {'fileExternalId': 'image-station-6823646490256602-4885115113942810-200544-MPS Dense Area 1 1-334-0000000000000001-4',\n",
       "   'fileId': 741908764202167,\n",
       "   'predictions': {'assetTagPredictions': []}},\n",
       "  {'fileExternalId': 'image-station-6823646490256602-4885115113942810-200544-MPS Dense Area 1 1-337-0000000000000001-3',\n",
       "   'fileId': 925994206826506,\n",
       "   'predictions': {'assetTagPredictions': []}},\n",
       "  {'fileExternalId': 'image-station-6823646490256602-4885115113942810-200544-MPS Dense Area 1 1-332-0000000000000001-1',\n",
       "   'fileId': 950047425314546,\n",
       "   'predictions': {'assetTagPredictions': []}},\n",
       "  {'fileExternalId': 'image-station-6823646490256602-4885115113942810-200544-MPS Dense Area 1 1-337-0000000000000001-5',\n",
       "   'fileId': 1070722721826141,\n",
       "   'predictions': {'assetTagPredictions': []}},\n",
       "  {'fileExternalId': 'image-station-6823646490256602-4885115113942810-200544-MPS Dense Area 1 1-334-0000000000000001-5',\n",
       "   'fileId': 1506084824481965,\n",
       "   'predictions': {'assetTagPredictions': []}}],\n",
       " 'parameters': {'assetTagDetectionParameters': {'assetSubtreeIds': [],\n",
       "   'partialMatch': False,\n",
       "   'threshold': 0.4}}}"
      ]
     },
     "execution_count": 6,
     "metadata": {},
     "output_type": "execute_result"
    }
   ],
   "source": [
    "extract_job_sigrid.result"
   ]
  },
  {
   "cell_type": "markdown",
   "id": "7e75b28e-44e9-41d5-9974-ca91b4ff81d4",
   "metadata": {
    "jp-MarkdownHeadingCollapsed": true
   },
   "source": [
    "### Trying with API:"
   ]
  },
  {
   "cell_type": "code",
   "execution_count": null,
   "id": "a42266a4-4440-4113-94ae-63af390fceb4",
   "metadata": {},
   "outputs": [],
   "source": []
  },
  {
   "cell_type": "code",
   "execution_count": 15,
   "id": "ca1e8201-688b-4753-97a8-01bdc240477f",
   "metadata": {},
   "outputs": [
    {
     "name": "stdout",
     "output_type": "stream",
     "text": [
      "Data received: {'createdTime': 1713448229671, 'features': ['AssetTagDetection'], 'items': [{'fileId': 2530661728975954}], 'jobId': 6718733810130210, 'status': 'Queued', 'statusTime': 1713448229671}\n"
     ]
    }
   ],
   "source": [
    "import os\n",
    "import requests\n",
    "\n",
    "# Your variables\n",
    "TOKEN_URL = os.getenv(\"TOKEN_URL\")\n",
    "CLIENT_ID = os.getenv(\"CLIENT_ID\")\n",
    "CLIENT_SECRET = os.getenv(\"CLIENT_SECRET\")\n",
    "CDF_CLUSTER = os.getenv(\"CDF_CLUSTER\")\n",
    "BASE_URL = f\"https://{CDF_CLUSTER}.cognitedata.com\"\n",
    "SCOPES = [f\"{BASE_URL}/.default\"]\n",
    "COGNITE_PROJECT = os.getenv(\"COGNITE_PROJECT\")\n",
    "\n",
    "#OAuth token:\n",
    "token_data = {\n",
    "    \"client_id\": CLIENT_ID,\n",
    "    \"client_secret\": CLIENT_SECRET,\n",
    "    \"grant_type\": \"client_credentials\",\n",
    "    \"scope\": \" \".join(SCOPES),\n",
    "}\n",
    "token_r = requests.post(TOKEN_URL, data=token_data)\n",
    "token = token_r.json().get(\"access_token\")\n",
    "\n",
    "# API request\n",
    "url = f\"https://{CDF_CLUSTER}.cognitedata.com/api/v1/projects/{COGNITE_PROJECT}/context/vision/extract\"\n",
    "headers = {\n",
    "    \"Authorization\": f\"Bearer {token}\",\n",
    "    \"accept\": \"application/json\",\n",
    "    \"content-type\": \"application/json\",\n",
    "    \"cdf-version\": \"beta\"  # Or try 20230101-beta\n",
    "}\n",
    "\n",
    "# Payload \n",
    "## Points for payload\n",
    "file_id_test = 2530661728975954\n",
    "payload = {\n",
    "    \"items\": [{\"fileId\": file_id_test}], \n",
    "    \"features\": [\"AssetTagDetection\"],\n",
    "}\n",
    "\n",
    "# Make the API request\n",
    "response = requests.post(url, json=payload, headers=headers)\n",
    "\n",
    "# Handle response\n",
    "if response.status_code == 200:\n",
    "    data = response.json()\n",
    "    # Your code to handle the data here\n",
    "    print(\"Data received:\", data)\n",
    "else:\n",
    "    print(\"Error:\", response.status_code, response.text)\n",
    "\n",
    "\n",
    "def check_job_status(job_id):\n",
    "    # Endpoint to check the status of the segmentation job\n",
    "    status_url = f\"https://{CDF_CLUSTER}.cognitedata.com/api/v1/projects/{COGNITE_PROJECT}/context/vision/extract/{job_id}\"\n",
    "\n",
    "    # Headers with \"beta\" version\n",
    "    headers = {\n",
    "        \"Authorization\": f\"Bearer {token}\",\n",
    "        \"accept\": \"application/json\",\n",
    "        \"content-type\": \"application/json\",\n",
    "        \"cdf-version\": \"beta\"\n",
    "    }\n",
    "\n",
    "    # Make the API request\n",
    "    response = requests.get(status_url, headers=headers)\n",
    "\n",
    "    # Handle response\n",
    "    if response.status_code == 200:\n",
    "        data = response.json()\n",
    "        job_status = data.get(\"status\")\n",
    "        if job_status == \"Completed\":\n",
    "            print(\"The segmentation job is completed!\")\n",
    "            return data\n",
    "        elif job_status == \"Queued\" or job_status == \"Running\":\n",
    "            print(f\"The segmentation job is currently {job_status}. Please wait...\")\n",
    "            return False\n",
    "        else:\n",
    "            print(f\"Unknown job status: {job_status}\")\n",
    "            print(data)\n",
    "            return False\n",
    "    else:\n",
    "        print(\"Error:\", response.status_code, response.text)\n",
    "        return False"
   ]
  },
  {
   "cell_type": "code",
   "execution_count": 16,
   "id": "ed3f2e55-a715-47dd-9b68-f14dc0800460",
   "metadata": {},
   "outputs": [
    {
     "name": "stdout",
     "output_type": "stream",
     "text": [
      "Unknown job status: Failed\n",
      "{'createdTime': 1713447836569, 'failedItems': [{'errorMessage': \"JobFailedException: TypeError('CountAggregate' object is not subscriptable)\", 'items': [{'fileId': 2530661728975954}]}], 'jobId': 6699477637134437, 'startTime': 1713447839294, 'status': 'Failed', 'statusTime': 1713448047541}\n"
     ]
    },
    {
     "data": {
      "text/plain": [
       "False"
      ]
     },
     "execution_count": 16,
     "metadata": {},
     "output_type": "execute_result"
    }
   ],
   "source": [
    "check_job_status(6699477637134437)"
   ]
  },
  {
   "cell_type": "code",
   "execution_count": 17,
   "id": "d02576e4-d322-4801-83bd-7e3dfdc206a9",
   "metadata": {},
   "outputs": [
    {
     "name": "stdout",
     "output_type": "stream",
     "text": [
      "Unknown job status: Failed\n",
      "{'createdTime': 1713448229671, 'failedItems': [{'errorMessage': \"JobFailedException: TypeError('CountAggregate' object is not subscriptable)\", 'items': [{'fileId': 2530661728975954}]}], 'jobId': 6718733810130210, 'startTime': 1713448231062, 'status': 'Failed', 'statusTime': 1713448233746}\n"
     ]
    },
    {
     "data": {
      "text/plain": [
       "False"
      ]
     },
     "execution_count": 17,
     "metadata": {},
     "output_type": "execute_result"
    }
   ],
   "source": [
    "check_job_status(6718733810130210)"
   ]
  },
  {
   "cell_type": "markdown",
   "id": "d822dea8-afe5-4d7e-92a6-f0ba4918e4b1",
   "metadata": {},
   "source": [
    "## Continue with results"
   ]
  },
  {
   "cell_type": "code",
   "execution_count": 31,
   "id": "90806ba3-80ee-4e59-aad5-e8ea658bd250",
   "metadata": {},
   "outputs": [
    {
     "name": "stdout",
     "output_type": "stream",
     "text": [
      "FILE ID: 3412097324633202\n",
      "[AssetLink(text='IL-42-A-9A9', text_region=BoundingBox(x_min=0.505859375, x_max=0.5384765625, y_min=0.5453125, y_max=0.552734375), asset_ref=CdfResourceRef(id=2194542392124481, external_id=None), confidence=1.0)]\n",
      "FILE ID: 6019921028862041\n",
      "[AssetLink(text='BE-5526A', text_region=BoundingBox(x_min=0.27187500000000003, x_max=0.2951171875, y_min=0.4578125, y_max=0.46503906250000004), asset_ref=CdfResourceRef(id=7636371139593460, external_id=None), confidence=1.0)]\n"
     ]
    }
   ],
   "source": [
    "for pred in extract_job_sigrid.items:\n",
    "    fileID = pred.file_id\n",
    "    assettagpreds = pred.predictions.asset_tag_predictions\n",
    "    if assettagpreds:\n",
    "        print(\"FILE ID:\",fileID)\n",
    "        print(assettagpreds)"
   ]
  },
  {
   "cell_type": "code",
   "execution_count": 32,
   "id": "42591947-ad94-4551-bd5c-968dc6d63a26",
   "metadata": {},
   "outputs": [
    {
     "data": {
      "text/html": [
       "<div>\n",
       "<style scoped>\n",
       "    .dataframe tbody tr th:only-of-type {\n",
       "        vertical-align: middle;\n",
       "    }\n",
       "\n",
       "    .dataframe tbody tr th {\n",
       "        vertical-align: top;\n",
       "    }\n",
       "\n",
       "    .dataframe thead th {\n",
       "        text-align: right;\n",
       "    }\n",
       "</style>\n",
       "<table border=\"1\" class=\"dataframe\">\n",
       "  <thead>\n",
       "    <tr style=\"text-align: right;\">\n",
       "      <th></th>\n",
       "      <th>annotation_type</th>\n",
       "      <th>data</th>\n",
       "      <th>status</th>\n",
       "      <th>creating_app</th>\n",
       "      <th>creating_app_version</th>\n",
       "      <th>annotated_resource_type</th>\n",
       "      <th>annotated_resource_id</th>\n",
       "      <th>id</th>\n",
       "      <th>created_time</th>\n",
       "      <th>last_updated_time</th>\n",
       "      <th>creating_user</th>\n",
       "    </tr>\n",
       "  </thead>\n",
       "  <tbody>\n",
       "    <tr>\n",
       "      <th>0</th>\n",
       "      <td>images.AssetLink</td>\n",
       "      <td>{'assetRef': {'id': 2194542392124481}, 'confid...</td>\n",
       "      <td>suggested</td>\n",
       "      <td>cognite-sdk-python</td>\n",
       "      <td>7.37.1</td>\n",
       "      <td>file</td>\n",
       "      <td>3412097324633202</td>\n",
       "      <td>4865406478955850</td>\n",
       "      <td>2024-04-22 07:16:43.146</td>\n",
       "      <td>2024-04-22 07:16:43.146</td>\n",
       "      <td>None</td>\n",
       "    </tr>\n",
       "    <tr>\n",
       "      <th>1</th>\n",
       "      <td>images.AssetLink</td>\n",
       "      <td>{'assetRef': {'id': 7636371139593460}, 'confid...</td>\n",
       "      <td>suggested</td>\n",
       "      <td>cognite-sdk-python</td>\n",
       "      <td>7.37.1</td>\n",
       "      <td>file</td>\n",
       "      <td>6019921028862041</td>\n",
       "      <td>4155185497432281</td>\n",
       "      <td>2024-04-22 07:16:43.147</td>\n",
       "      <td>2024-04-22 07:16:43.147</td>\n",
       "      <td>None</td>\n",
       "    </tr>\n",
       "  </tbody>\n",
       "</table>\n",
       "</div>"
      ],
      "text/plain": [
       "AnnotationList([<cognite.client.data_classes.annotations.Annotation at 0x2a1c33650>,\n",
       "                <cognite.client.data_classes.annotations.Annotation at 0x2a1c33850>])"
      ]
     },
     "execution_count": 32,
     "metadata": {},
     "output_type": "execute_result"
    }
   ],
   "source": [
    "extract_job_sigrid.save_predictions()"
   ]
  },
  {
   "cell_type": "code",
   "execution_count": null,
   "id": "ebe715c2-1dab-4caa-9285-821da76221c6",
   "metadata": {},
   "outputs": [],
   "source": []
  }
 ],
 "metadata": {
  "kernelspec": {
   "display_name": "project_thesis",
   "language": "python",
   "name": "project_thesis"
  },
  "language_info": {
   "codemirror_mode": {
    "name": "ipython",
    "version": 3
   },
   "file_extension": ".py",
   "mimetype": "text/x-python",
   "name": "python",
   "nbconvert_exporter": "python",
   "pygments_lexer": "ipython3",
   "version": "3.11.5"
  }
 },
 "nbformat": 4,
 "nbformat_minor": 5
}
